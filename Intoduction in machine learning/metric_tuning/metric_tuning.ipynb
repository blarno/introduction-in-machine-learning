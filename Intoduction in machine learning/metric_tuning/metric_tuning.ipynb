{
 "cells": [
  {
   "cell_type": "code",
   "execution_count": 2,
   "metadata": {},
   "outputs": [],
   "source": [
    "import pandas as pd\n",
    "import sklearn.datasets\n",
    "import sklearn.neighbors\n",
    "import sklearn.preprocessing\n",
    "import sklearn.model_selection\n",
    "import numpy as np"
   ]
  },
  {
   "cell_type": "code",
   "execution_count": 13,
   "metadata": {},
   "outputs": [],
   "source": [
    "data = sklearn.datasets.load_boston()\n",
    "X = sklearn.preprocessing.scale(data['data'])\n",
    "y = data['target']"
   ]
  },
  {
   "cell_type": "code",
   "execution_count": 14,
   "metadata": {},
   "outputs": [],
   "source": [
    "kf = sklearn.model_selection.KFold(shuffle = True,random_state = 42,n_splits = 5)"
   ]
  },
  {
   "cell_type": "code",
   "execution_count": 16,
   "metadata": {},
   "outputs": [
    {
     "data": {
      "text/plain": [
       "[1.0, 0.8013825191275472]"
      ]
     },
     "execution_count": 16,
     "metadata": {},
     "output_type": "execute_result"
    }
   ],
   "source": [
    "p = np.linspace(1,10,200)\n",
    "a = []\n",
    "for i in p:\n",
    "    KN = sklearn.neighbors.KNeighborsRegressor(metric='minkowski',n_neighbors=5,p = i,weights='distance')\n",
    "    z = KN.fit(X,y)\n",
    "    a.append([i,sum(sklearn.model_selection.cross_val_score(z, X, y, cv=kf))/5])\n",
    "maxim = [0,0]\n",
    "for el in a:\n",
    "    if(el[1]>maxim[1]):\n",
    "        maxim[1] = el[1]\n",
    "        maxim[0] = el[0]\n",
    "maxim"
   ]
  },
  {
   "cell_type": "code",
   "execution_count": null,
   "metadata": {},
   "outputs": [],
   "source": []
  },
  {
   "cell_type": "code",
   "execution_count": 4,
   "metadata": {},
   "outputs": [],
   "source": []
  }
 ],
 "metadata": {
  "kernelspec": {
   "display_name": "Python 3",
   "language": "python",
   "name": "python3"
  },
  "language_info": {
   "codemirror_mode": {
    "name": "ipython",
    "version": 3
   },
   "file_extension": ".py",
   "mimetype": "text/x-python",
   "name": "python",
   "nbconvert_exporter": "python",
   "pygments_lexer": "ipython3",
   "version": "3.7.3"
  }
 },
 "nbformat": 4,
 "nbformat_minor": 2
}
