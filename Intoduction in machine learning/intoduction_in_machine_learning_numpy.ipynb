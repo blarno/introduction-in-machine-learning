{
 "cells": [
  {
   "cell_type": "code",
   "execution_count": 1,
   "metadata": {},
   "outputs": [],
   "source": [
    "import numpy as np"
   ]
  },
  {
   "cell_type": "code",
   "execution_count": 3,
   "metadata": {},
   "outputs": [
    {
     "data": {
      "text/plain": [
       "array([[ 10.93612636,  -1.8129417 , -18.75120066, ...,  -8.50651539,\n",
       "         11.52784056,  -4.68284571],\n",
       "       [ -6.11324026,   8.70213276,   2.6801021 , ..., -12.10686198,\n",
       "         10.55793798,  -0.8376656 ],\n",
       "       [ -0.39591245,   5.97208609, -15.41742813, ...,  19.65848964,\n",
       "         -6.04224197, -24.47304125],\n",
       "       ...,\n",
       "       [-18.07897365,   6.07997887,  -7.58386581, ...,  13.73577177,\n",
       "         -9.6693445 ,   1.07351034],\n",
       "       [-24.77619954,  15.52276195,   6.85446532, ...,  -7.96330623,\n",
       "          3.76507829,   9.52139911],\n",
       "       [  4.47141887,   5.5984222 ,  -6.52298735, ...,   1.60382752,\n",
       "          0.3942361 ,   2.19695408]])"
      ]
     },
     "execution_count": 3,
     "metadata": {},
     "output_type": "execute_result"
    }
   ],
   "source": [
    "X = np.random.normal(loc=1,scale=10,size=(1000,50))\n",
    "X"
   ]
  },
  {
   "cell_type": "code",
   "execution_count": 5,
   "metadata": {},
   "outputs": [
    {
     "data": {
      "text/plain": [
       "array([[ 0.98468197, -0.2228539 , -1.98590459, ..., -0.9281154 ,\n",
       "         1.08291297, -0.56286187],\n",
       "       [-0.7752673 ,  0.84550338,  0.14892246, ..., -1.2853238 ,\n",
       "         0.985044  , -0.17010409],\n",
       "       [-0.18508661,  0.56812396, -1.65381895, ...,  1.86627568,\n",
       "        -0.69001346, -2.5842895 ],\n",
       "       ...,\n",
       "       [-2.01045006,  0.57908613, -0.87349771, ...,  1.27865321,\n",
       "        -1.0560098 ,  0.02510893],\n",
       "       [-2.70178235,  1.53849599,  0.56474149, ..., -0.8742209 ,\n",
       "         0.29960382,  0.88800065],\n",
       "       [ 0.31735177,  0.5301588 , -0.76782089, ...,  0.07498231,\n",
       "        -0.04053432,  0.13986072]])"
      ]
     },
     "execution_count": 5,
     "metadata": {},
     "output_type": "execute_result"
    }
   ],
   "source": [
    "m = np.mean(X, axis=0)\n",
    "std = np.std(X, axis=0)\n",
    "X_norm = ((X - m)  / std)\n",
    "X_norm"
   ]
  },
  {
   "cell_type": "code",
   "execution_count": 10,
   "metadata": {},
   "outputs": [
    {
     "data": {
      "text/plain": [
       "(array([1, 4, 5], dtype=int64),)"
      ]
     },
     "execution_count": 10,
     "metadata": {},
     "output_type": "execute_result"
    }
   ],
   "source": [
    "Z = np.array([[4, 5, 0], \n",
    "             [1, 9, 3],              \n",
    "             [5, 1, 1],\n",
    "             [3, 3, 3], \n",
    "             [9, 9, 9], \n",
    "             [4, 7, 1]])\n",
    "np.nonzero((np.sum(Z,axis=1))>10)"
   ]
  },
  {
   "cell_type": "code",
   "execution_count": 11,
   "metadata": {},
   "outputs": [],
   "source": [
    "A = np.eye(3)\n",
    "B = np.eye(3)"
   ]
  },
  {
   "cell_type": "code",
   "execution_count": 13,
   "metadata": {},
   "outputs": [
    {
     "data": {
      "text/plain": [
       "array([[1., 0., 0.],\n",
       "       [0., 1., 0.],\n",
       "       [0., 0., 1.],\n",
       "       [1., 0., 0.],\n",
       "       [0., 1., 0.],\n",
       "       [0., 0., 1.]])"
      ]
     },
     "execution_count": 13,
     "metadata": {},
     "output_type": "execute_result"
    }
   ],
   "source": [
    "AB = np.vstack((A, B))\n",
    "AB"
   ]
  },
  {
   "cell_type": "code",
   "execution_count": null,
   "metadata": {},
   "outputs": [],
   "source": []
  }
 ],
 "metadata": {
  "kernelspec": {
   "display_name": "Python 3",
   "language": "python",
   "name": "python3"
  },
  "language_info": {
   "codemirror_mode": {
    "name": "ipython",
    "version": 3
   },
   "file_extension": ".py",
   "mimetype": "text/x-python",
   "name": "python",
   "nbconvert_exporter": "python",
   "pygments_lexer": "ipython3",
   "version": "3.7.6"
  }
 },
 "nbformat": 4,
 "nbformat_minor": 4
}
